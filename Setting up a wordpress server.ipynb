{
 "cells": [
  {
   "cell_type": "markdown",
   "source": [
    "#### Create new harbour project and add user \"jenkins\" as developer, and copy the project name in namespace"
   ],
   "metadata": {}
  },
  {
   "cell_type": "code",
   "execution_count": null,
   "source": [
    "#TODO: Automatically rename all namespaces in yml files\n",
    "#TODO: Describe gulp and add jenkins\n",
    "#TODO: Open docker/docker-compose.yml and change ports automatically"
   ],
   "outputs": [],
   "metadata": {}
  },
  {
   "cell_type": "code",
   "execution_count": 6,
   "source": [
    "namespace = \"xaiweb-2021\"\n",
    "wordpress_local_port = 1333\n",
    "mysql_local_port = 1334"
   ],
   "outputs": [],
   "metadata": {}
  },
  {
   "cell_type": "markdown",
   "source": [
    "# Setting up local enviroment"
   ],
   "metadata": {}
  },
  {
   "cell_type": "code",
   "execution_count": 7,
   "source": [
    "!docker login reg.xailabs.com"
   ],
   "outputs": [
    {
     "output_type": "stream",
     "name": "stdout",
     "text": [
      "Authenticating with existing credentials...\n",
      "Login Succeeded\n"
     ]
    }
   ],
   "metadata": {}
  },
  {
   "cell_type": "code",
   "execution_count": 8,
   "source": [
    "%cd docker"
   ],
   "outputs": [
    {
     "output_type": "stream",
     "name": "stdout",
     "text": [
      "[Errno 2] No such file or directory: 'docker'\n",
      "/Users/francesco.fano/Documents/xailabs/xaiweb-2021/docker\n"
     ]
    }
   ],
   "metadata": {
    "scrolled": false
   }
  },
  {
   "cell_type": "code",
   "execution_count": 9,
   "source": [
    "!docker-compose build"
   ],
   "outputs": [
    {
     "output_type": "stream",
     "name": "stdout",
     "text": [
      "template-postfix uses an image, skipping\n",
      "template-mysql uses an image, skipping\n",
      "Building template-wordpress\n",
      "\u001b[1A\u001b[1B\u001b[0G\u001b[?25l[+] Building 0.0s (0/1)                                                         \n",
      "\u001b[?25h\u001b[1A\u001b[0G\u001b[?25l[+] Building 0.1s (2/2)                                                         \n",
      "\u001b[34m => [internal] load build definition from Dockerfile                       0.1s\n",
      "\u001b[0m\u001b[34m => => transferring dockerfile: 37B                                        0.0s\n",
      "\u001b[0m\u001b[34m => [internal] load .dockerignore                                          0.0s\n",
      "\u001b[0m\u001b[34m => => transferring context: 2B                                            0.0s\n",
      "\u001b[0m\u001b[?25h\u001b[1A\u001b[1A\u001b[1A\u001b[1A\u001b[1A\u001b[0G\u001b[?25l[+] Building 0.2s (2/3)                                                         \n",
      "\u001b[34m => [internal] load build definition from Dockerfile                       0.1s\n",
      "\u001b[0m\u001b[34m => => transferring dockerfile: 37B                                        0.0s\n",
      "\u001b[0m\u001b[34m => [internal] load .dockerignore                                          0.0s\n",
      "\u001b[0m\u001b[34m => => transferring context: 2B                                            0.0s\n",
      "\u001b[0m => [internal] load metadata for reg.xailabs.com/xailabs/wordpress:latest  0.0s\n",
      "\u001b[?25h\u001b[1A\u001b[1A\u001b[1A\u001b[1A\u001b[1A\u001b[1A\u001b[0G\u001b[?25l[+] Building 0.3s (4/26)                                                        \n",
      "\u001b[34m => [internal] load build definition from Dockerfile                       0.1s\n",
      "\u001b[0m\u001b[34m => => transferring dockerfile: 37B                                        0.0s\n",
      "\u001b[0m\u001b[34m => [internal] load .dockerignore                                          0.0s\n",
      "\u001b[0m\u001b[34m => => transferring context: 2B                                            0.0s\n",
      "\u001b[0m\u001b[34m => [internal] load metadata for reg.xailabs.com/xailabs/wordpress:latest  0.0s\n",
      "\u001b[0m\u001b[34m => [ 1/22] FROM reg.xailabs.com/xailabs/wordpress:latest                  0.0s\n",
      "\u001b[0m => [internal] load build context                                          0.1s\n",
      "\u001b[34m => => transferring context: 317.45kB                                      0.1s\n",
      "\u001b[0m\u001b[?25h\u001b[1A\u001b[1A\u001b[1A\u001b[1A\u001b[1A\u001b[1A\u001b[1A\u001b[1A\u001b[1A\u001b[0G\u001b[?25l[+] Building 0.5s (20/26)                                                       \n",
      "\u001b[34m => [internal] load .dockerignore                                          0.0s\n",
      "\u001b[0m\u001b[34m => => transferring context: 2B                                            0.0s\n",
      "\u001b[0m\u001b[34m => [internal] load metadata for reg.xailabs.com/xailabs/wordpress:latest  0.0s\n",
      "\u001b[0m\u001b[34m => [ 1/22] FROM reg.xailabs.com/xailabs/wordpress:latest                  0.0s\n",
      "\u001b[0m\u001b[34m => [internal] load build context                                          0.1s\n",
      "\u001b[0m\u001b[34m => => transferring context: 317.45kB                                      0.1s\n",
      "\u001b[0m\u001b[34m => CACHED [ 2/22] RUN apt-get update && apt-get upgrade -y && apt-get cl  0.0s\n",
      "\u001b[0m\u001b[34m => CACHED [ 3/22] RUN curl -o duplicate-post.zip -fSL \"https://downloads  0.0s\n",
      "\u001b[0m\u001b[34m => CACHED [ 4/22] RUN curl -o duplicate-post_de_DE.zip -fSL \"https://dow  0.0s\n",
      "\u001b[0m\u001b[34m => CACHED [ 5/22] RUN curl -o w3-total-cache.zip -fSL \"https://downloads  0.0s\n",
      "\u001b[0m\u001b[34m => CACHED [ 6/22] RUN curl -o intuitive-custom-post-order.zip -fSL \"http  0.0s\n",
      "\u001b[0m\u001b[34m => CACHED [ 7/22] RUN curl -o wordpress-seo.zip -fSL \"https://downloads.  0.0s\n",
      "\u001b[0m\u001b[34m => CACHED [ 8/22] RUN curl -o wordpress-seo_de_DE.zip -fSL \"https://down  0.0s\n",
      "\u001b[0m\u001b[34m => CACHED [ 9/22] RUN curl -o acf-image-crop-add-on.zip -fSL \"https://do  0.0s\n",
      "\u001b[0m\u001b[34m => CACHED [10/22] RUN curl -o wonderm00ns-simple-facebook-open-graph-tag  0.0s\n",
      "\u001b[0m\u001b[34m => CACHED [11/22] RUN curl -o classic-editor.zip -fSL \"https://downloads  0.0s\n",
      "\u001b[0m\u001b[34m => CACHED [12/22] RUN curl -o force-refresh.zip -fSL \"https://downloads.  0.0s\n",
      "\u001b[0m\u001b[34m => CACHED [13/22] RUN curl -o acf-rgba-color-picker.zip -fSL \"https://do  0.0s\n",
      "\u001b[0m\u001b[34m => CACHED [14/22] RUN curl -o ajax-load-more.zip -fSL \"https://downloads  0.0s\n",
      "\u001b[0m\u001b[34m => CACHED [15/22] RUN curl -o acf-autosize.zip -fSL \"https://downloads.w  0.0s\n",
      "\u001b[0m\u001b[34m => CACHED [16/22] RUN rm -rf wp-content/themes/                           0.0s\n",
      "\u001b[0m => [17/22] COPY wp-content/themes/ /var/www/html/wp-content/themes/       0.1s\n",
      "\u001b[?25h\u001b[1A\u001b[1A\u001b[1A\u001b[1A\u001b[1A\u001b[1A\u001b[1A\u001b[1A\u001b[1A\u001b[1A\u001b[1A\u001b[1A\u001b[1A\u001b[1A\u001b[1A\u001b[1A\u001b[1A\u001b[1A\u001b[1A\u001b[1A\u001b[1A\u001b[1A\u001b[1A\u001b[0G\u001b[?25l[+] Building 0.6s (20/26)                                                       \n",
      "\u001b[34m => [internal] load .dockerignore                                          0.0s\n",
      "\u001b[0m\u001b[34m => => transferring context: 2B                                            0.0s\n",
      "\u001b[0m\u001b[34m => [internal] load metadata for reg.xailabs.com/xailabs/wordpress:latest  0.0s\n",
      "\u001b[0m\u001b[34m => [ 1/22] FROM reg.xailabs.com/xailabs/wordpress:latest                  0.0s\n",
      "\u001b[0m\u001b[34m => [internal] load build context                                          0.1s\n",
      "\u001b[0m\u001b[34m => => transferring context: 317.45kB                                      0.1s\n",
      "\u001b[0m\u001b[34m => CACHED [ 2/22] RUN apt-get update && apt-get upgrade -y && apt-get cl  0.0s\n",
      "\u001b[0m\u001b[34m => CACHED [ 3/22] RUN curl -o duplicate-post.zip -fSL \"https://downloads  0.0s\n",
      "\u001b[0m\u001b[34m => CACHED [ 4/22] RUN curl -o duplicate-post_de_DE.zip -fSL \"https://dow  0.0s\n",
      "\u001b[0m\u001b[34m => CACHED [ 5/22] RUN curl -o w3-total-cache.zip -fSL \"https://downloads  0.0s\n",
      "\u001b[0m\u001b[34m => CACHED [ 6/22] RUN curl -o intuitive-custom-post-order.zip -fSL \"http  0.0s\n",
      "\u001b[0m\u001b[34m => CACHED [ 7/22] RUN curl -o wordpress-seo.zip -fSL \"https://downloads.  0.0s\n",
      "\u001b[0m\u001b[34m => CACHED [ 8/22] RUN curl -o wordpress-seo_de_DE.zip -fSL \"https://down  0.0s\n",
      "\u001b[0m\u001b[34m => CACHED [ 9/22] RUN curl -o acf-image-crop-add-on.zip -fSL \"https://do  0.0s\n",
      "\u001b[0m\u001b[34m => CACHED [10/22] RUN curl -o wonderm00ns-simple-facebook-open-graph-tag  0.0s\n",
      "\u001b[0m\u001b[34m => CACHED [11/22] RUN curl -o classic-editor.zip -fSL \"https://downloads  0.0s\n",
      "\u001b[0m\u001b[34m => CACHED [12/22] RUN curl -o force-refresh.zip -fSL \"https://downloads.  0.0s\n",
      "\u001b[0m\u001b[34m => CACHED [13/22] RUN curl -o acf-rgba-color-picker.zip -fSL \"https://do  0.0s\n",
      "\u001b[0m\u001b[34m => CACHED [14/22] RUN curl -o ajax-load-more.zip -fSL \"https://downloads  0.0s\n",
      "\u001b[0m\u001b[34m => CACHED [15/22] RUN curl -o acf-autosize.zip -fSL \"https://downloads.w  0.0s\n",
      "\u001b[0m\u001b[34m => CACHED [16/22] RUN rm -rf wp-content/themes/                           0.0s\n",
      "\u001b[0m => [17/22] COPY wp-content/themes/ /var/www/html/wp-content/themes/       0.3s\n",
      "\u001b[?25h\u001b[1A\u001b[1A\u001b[1A\u001b[1A\u001b[1A\u001b[1A\u001b[1A\u001b[1A\u001b[1A\u001b[1A\u001b[1A\u001b[1A\u001b[1A\u001b[1A\u001b[1A\u001b[1A\u001b[1A\u001b[1A\u001b[1A\u001b[1A\u001b[1A\u001b[1A\u001b[1A\u001b[0G\u001b[?25l[+] Building 0.8s (20/26)                                                       \n",
      "\u001b[34m => [internal] load .dockerignore                                          0.0s\n",
      "\u001b[0m\u001b[34m => => transferring context: 2B                                            0.0s\n",
      "\u001b[0m\u001b[34m => [internal] load metadata for reg.xailabs.com/xailabs/wordpress:latest  0.0s\n",
      "\u001b[0m\u001b[34m => [ 1/22] FROM reg.xailabs.com/xailabs/wordpress:latest                  0.0s\n",
      "\u001b[0m\u001b[34m => [internal] load build context                                          0.1s\n",
      "\u001b[0m\u001b[34m => => transferring context: 317.45kB                                      0.1s\n",
      "\u001b[0m\u001b[34m => CACHED [ 2/22] RUN apt-get update && apt-get upgrade -y && apt-get cl  0.0s\n",
      "\u001b[0m\u001b[34m => CACHED [ 3/22] RUN curl -o duplicate-post.zip -fSL \"https://downloads  0.0s\n",
      "\u001b[0m\u001b[34m => CACHED [ 4/22] RUN curl -o duplicate-post_de_DE.zip -fSL \"https://dow  0.0s\n",
      "\u001b[0m\u001b[34m => CACHED [ 5/22] RUN curl -o w3-total-cache.zip -fSL \"https://downloads  0.0s\n",
      "\u001b[0m\u001b[34m => CACHED [ 6/22] RUN curl -o intuitive-custom-post-order.zip -fSL \"http  0.0s\n",
      "\u001b[0m\u001b[34m => CACHED [ 7/22] RUN curl -o wordpress-seo.zip -fSL \"https://downloads.  0.0s\n",
      "\u001b[0m\u001b[34m => CACHED [ 8/22] RUN curl -o wordpress-seo_de_DE.zip -fSL \"https://down  0.0s\n",
      "\u001b[0m\u001b[34m => CACHED [ 9/22] RUN curl -o acf-image-crop-add-on.zip -fSL \"https://do  0.0s\n",
      "\u001b[0m\u001b[34m => CACHED [10/22] RUN curl -o wonderm00ns-simple-facebook-open-graph-tag  0.0s\n",
      "\u001b[0m\u001b[34m => CACHED [11/22] RUN curl -o classic-editor.zip -fSL \"https://downloads  0.0s\n",
      "\u001b[0m\u001b[34m => CACHED [12/22] RUN curl -o force-refresh.zip -fSL \"https://downloads.  0.0s\n",
      "\u001b[0m\u001b[34m => CACHED [13/22] RUN curl -o acf-rgba-color-picker.zip -fSL \"https://do  0.0s\n",
      "\u001b[0m\u001b[34m => CACHED [14/22] RUN curl -o ajax-load-more.zip -fSL \"https://downloads  0.0s\n",
      "\u001b[0m\u001b[34m => CACHED [15/22] RUN curl -o acf-autosize.zip -fSL \"https://downloads.w  0.0s\n",
      "\u001b[0m\u001b[34m => CACHED [16/22] RUN rm -rf wp-content/themes/                           0.0s\n",
      "\u001b[0m => [17/22] COPY wp-content/themes/ /var/www/html/wp-content/themes/       0.4s\n",
      "\u001b[?25h\u001b[1A\u001b[1A\u001b[1A\u001b[1A\u001b[1A\u001b[1A\u001b[1A\u001b[1A\u001b[1A\u001b[1A\u001b[1A\u001b[1A\u001b[1A\u001b[1A\u001b[1A\u001b[1A\u001b[1A\u001b[1A\u001b[1A\u001b[1A\u001b[1A\u001b[1A\u001b[1A\u001b[0G\u001b[?25l[+] Building 0.9s (20/26)                                                       \n",
      "\u001b[34m => [internal] load .dockerignore                                          0.0s\n",
      "\u001b[0m\u001b[34m => => transferring context: 2B                                            0.0s\n",
      "\u001b[0m\u001b[34m => [internal] load metadata for reg.xailabs.com/xailabs/wordpress:latest  0.0s\n",
      "\u001b[0m\u001b[34m => [ 1/22] FROM reg.xailabs.com/xailabs/wordpress:latest                  0.0s\n",
      "\u001b[0m\u001b[34m => [internal] load build context                                          0.1s\n",
      "\u001b[0m\u001b[34m => => transferring context: 317.45kB                                      0.1s\n",
      "\u001b[0m\u001b[34m => CACHED [ 2/22] RUN apt-get update && apt-get upgrade -y && apt-get cl  0.0s\n",
      "\u001b[0m\u001b[34m => CACHED [ 3/22] RUN curl -o duplicate-post.zip -fSL \"https://downloads  0.0s\n",
      "\u001b[0m\u001b[34m => CACHED [ 4/22] RUN curl -o duplicate-post_de_DE.zip -fSL \"https://dow  0.0s\n",
      "\u001b[0m\u001b[34m => CACHED [ 5/22] RUN curl -o w3-total-cache.zip -fSL \"https://downloads  0.0s\n",
      "\u001b[0m\u001b[34m => CACHED [ 6/22] RUN curl -o intuitive-custom-post-order.zip -fSL \"http  0.0s\n",
      "\u001b[0m\u001b[34m => CACHED [ 7/22] RUN curl -o wordpress-seo.zip -fSL \"https://downloads.  0.0s\n",
      "\u001b[0m\u001b[34m => CACHED [ 8/22] RUN curl -o wordpress-seo_de_DE.zip -fSL \"https://down  0.0s\n",
      "\u001b[0m\u001b[34m => CACHED [ 9/22] RUN curl -o acf-image-crop-add-on.zip -fSL \"https://do  0.0s\n",
      "\u001b[0m\u001b[34m => CACHED [10/22] RUN curl -o wonderm00ns-simple-facebook-open-graph-tag  0.0s\n",
      "\u001b[0m\u001b[34m => CACHED [11/22] RUN curl -o classic-editor.zip -fSL \"https://downloads  0.0s\n",
      "\u001b[0m\u001b[34m => CACHED [12/22] RUN curl -o force-refresh.zip -fSL \"https://downloads.  0.0s\n",
      "\u001b[0m\u001b[34m => CACHED [13/22] RUN curl -o acf-rgba-color-picker.zip -fSL \"https://do  0.0s\n",
      "\u001b[0m\u001b[34m => CACHED [14/22] RUN curl -o ajax-load-more.zip -fSL \"https://downloads  0.0s\n",
      "\u001b[0m\u001b[34m => CACHED [15/22] RUN curl -o acf-autosize.zip -fSL \"https://downloads.w  0.0s\n",
      "\u001b[0m\u001b[34m => CACHED [16/22] RUN rm -rf wp-content/themes/                           0.0s\n",
      "\u001b[0m => [17/22] COPY wp-content/themes/ /var/www/html/wp-content/themes/       0.6s\n",
      "\u001b[?25h\u001b[1A\u001b[1A\u001b[1A\u001b[1A\u001b[1A\u001b[1A\u001b[1A\u001b[1A\u001b[1A\u001b[1A\u001b[1A\u001b[1A\u001b[1A\u001b[1A\u001b[1A\u001b[1A\u001b[1A\u001b[1A\u001b[1A\u001b[1A\u001b[1A\u001b[1A\u001b[1A\u001b[0G\u001b[?25l[+] Building 1.1s (20/26)                                                       \n",
      "\u001b[34m => [internal] load .dockerignore                                          0.0s\n",
      "\u001b[0m\u001b[34m => => transferring context: 2B                                            0.0s\n",
      "\u001b[0m\u001b[34m => [internal] load metadata for reg.xailabs.com/xailabs/wordpress:latest  0.0s\n",
      "\u001b[0m\u001b[34m => [ 1/22] FROM reg.xailabs.com/xailabs/wordpress:latest                  0.0s\n",
      "\u001b[0m\u001b[34m => [internal] load build context                                          0.1s\n",
      "\u001b[0m\u001b[34m => => transferring context: 317.45kB                                      0.1s\n",
      "\u001b[0m\u001b[34m => CACHED [ 2/22] RUN apt-get update && apt-get upgrade -y && apt-get cl  0.0s\n",
      "\u001b[0m\u001b[34m => CACHED [ 3/22] RUN curl -o duplicate-post.zip -fSL \"https://downloads  0.0s\n",
      "\u001b[0m\u001b[34m => CACHED [ 4/22] RUN curl -o duplicate-post_de_DE.zip -fSL \"https://dow  0.0s\n",
      "\u001b[0m\u001b[34m => CACHED [ 5/22] RUN curl -o w3-total-cache.zip -fSL \"https://downloads  0.0s\n",
      "\u001b[0m\u001b[34m => CACHED [ 6/22] RUN curl -o intuitive-custom-post-order.zip -fSL \"http  0.0s\n",
      "\u001b[0m\u001b[34m => CACHED [ 7/22] RUN curl -o wordpress-seo.zip -fSL \"https://downloads.  0.0s\n",
      "\u001b[0m\u001b[34m => CACHED [ 8/22] RUN curl -o wordpress-seo_de_DE.zip -fSL \"https://down  0.0s\n",
      "\u001b[0m\u001b[34m => CACHED [ 9/22] RUN curl -o acf-image-crop-add-on.zip -fSL \"https://do  0.0s\n",
      "\u001b[0m\u001b[34m => CACHED [10/22] RUN curl -o wonderm00ns-simple-facebook-open-graph-tag  0.0s\n",
      "\u001b[0m\u001b[34m => CACHED [11/22] RUN curl -o classic-editor.zip -fSL \"https://downloads  0.0s\n",
      "\u001b[0m\u001b[34m => CACHED [12/22] RUN curl -o force-refresh.zip -fSL \"https://downloads.  0.0s\n",
      "\u001b[0m\u001b[34m => CACHED [13/22] RUN curl -o acf-rgba-color-picker.zip -fSL \"https://do  0.0s\n",
      "\u001b[0m\u001b[34m => CACHED [14/22] RUN curl -o ajax-load-more.zip -fSL \"https://downloads  0.0s\n",
      "\u001b[0m\u001b[34m => CACHED [15/22] RUN curl -o acf-autosize.zip -fSL \"https://downloads.w  0.0s\n",
      "\u001b[0m\u001b[34m => CACHED [16/22] RUN rm -rf wp-content/themes/                           0.0s\n",
      "\u001b[0m => [17/22] COPY wp-content/themes/ /var/www/html/wp-content/themes/       0.7s\n",
      "\u001b[?25h\u001b[1A\u001b[1A\u001b[1A\u001b[1A\u001b[1A\u001b[1A\u001b[1A\u001b[1A\u001b[1A\u001b[1A\u001b[1A\u001b[1A\u001b[1A\u001b[1A\u001b[1A\u001b[1A\u001b[1A\u001b[1A\u001b[1A\u001b[1A\u001b[1A\u001b[1A\u001b[1A\u001b[0G\u001b[?25l[+] Building 1.2s (20/26)                                                       \n",
      "\u001b[34m => [internal] load .dockerignore                                          0.0s\n",
      "\u001b[0m\u001b[34m => => transferring context: 2B                                            0.0s\n",
      "\u001b[0m\u001b[34m => [internal] load metadata for reg.xailabs.com/xailabs/wordpress:latest  0.0s\n",
      "\u001b[0m\u001b[34m => [ 1/22] FROM reg.xailabs.com/xailabs/wordpress:latest                  0.0s\n",
      "\u001b[0m\u001b[34m => [internal] load build context                                          0.1s\n",
      "\u001b[0m\u001b[34m => => transferring context: 317.45kB                                      0.1s\n",
      "\u001b[0m\u001b[34m => CACHED [ 2/22] RUN apt-get update && apt-get upgrade -y && apt-get cl  0.0s\n",
      "\u001b[0m\u001b[34m => CACHED [ 3/22] RUN curl -o duplicate-post.zip -fSL \"https://downloads  0.0s\n",
      "\u001b[0m\u001b[34m => CACHED [ 4/22] RUN curl -o duplicate-post_de_DE.zip -fSL \"https://dow  0.0s\n",
      "\u001b[0m\u001b[34m => CACHED [ 5/22] RUN curl -o w3-total-cache.zip -fSL \"https://downloads  0.0s\n",
      "\u001b[0m\u001b[34m => CACHED [ 6/22] RUN curl -o intuitive-custom-post-order.zip -fSL \"http  0.0s\n",
      "\u001b[0m\u001b[34m => CACHED [ 7/22] RUN curl -o wordpress-seo.zip -fSL \"https://downloads.  0.0s\n",
      "\u001b[0m\u001b[34m => CACHED [ 8/22] RUN curl -o wordpress-seo_de_DE.zip -fSL \"https://down  0.0s\n",
      "\u001b[0m\u001b[34m => CACHED [ 9/22] RUN curl -o acf-image-crop-add-on.zip -fSL \"https://do  0.0s\n",
      "\u001b[0m\u001b[34m => CACHED [10/22] RUN curl -o wonderm00ns-simple-facebook-open-graph-tag  0.0s\n",
      "\u001b[0m\u001b[34m => CACHED [11/22] RUN curl -o classic-editor.zip -fSL \"https://downloads  0.0s\n",
      "\u001b[0m\u001b[34m => CACHED [12/22] RUN curl -o force-refresh.zip -fSL \"https://downloads.  0.0s\n",
      "\u001b[0m\u001b[34m => CACHED [13/22] RUN curl -o acf-rgba-color-picker.zip -fSL \"https://do  0.0s\n",
      "\u001b[0m\u001b[34m => CACHED [14/22] RUN curl -o ajax-load-more.zip -fSL \"https://downloads  0.0s\n",
      "\u001b[0m\u001b[34m => CACHED [15/22] RUN curl -o acf-autosize.zip -fSL \"https://downloads.w  0.0s\n",
      "\u001b[0m\u001b[34m => CACHED [16/22] RUN rm -rf wp-content/themes/                           0.0s\n",
      "\u001b[0m => [17/22] COPY wp-content/themes/ /var/www/html/wp-content/themes/       0.9s\n",
      "\u001b[?25h\u001b[1A\u001b[1A\u001b[1A\u001b[1A\u001b[1A\u001b[1A\u001b[1A\u001b[1A\u001b[1A\u001b[1A\u001b[1A\u001b[1A\u001b[1A\u001b[1A\u001b[1A\u001b[1A\u001b[1A\u001b[1A\u001b[1A\u001b[1A\u001b[1A\u001b[1A\u001b[1A\u001b[0G\u001b[?25l[+] Building 1.4s (21/26)                                                       \n",
      "\u001b[34m => => transferring context: 2B                                            0.0s\n",
      "\u001b[0m\u001b[34m => [internal] load metadata for reg.xailabs.com/xailabs/wordpress:latest  0.0s\n",
      "\u001b[0m\u001b[34m => [ 1/22] FROM reg.xailabs.com/xailabs/wordpress:latest                  0.0s\n",
      "\u001b[0m\u001b[34m => [internal] load build context                                          0.1s\n",
      "\u001b[0m\u001b[34m => => transferring context: 317.45kB                                      0.1s\n",
      "\u001b[0m\u001b[34m => CACHED [ 2/22] RUN apt-get update && apt-get upgrade -y && apt-get cl  0.0s\n",
      "\u001b[0m\u001b[34m => CACHED [ 3/22] RUN curl -o duplicate-post.zip -fSL \"https://downloads  0.0s\n",
      "\u001b[0m\u001b[34m => CACHED [ 4/22] RUN curl -o duplicate-post_de_DE.zip -fSL \"https://dow  0.0s\n",
      "\u001b[0m\u001b[34m => CACHED [ 5/22] RUN curl -o w3-total-cache.zip -fSL \"https://downloads  0.0s\n",
      "\u001b[0m\u001b[34m => CACHED [ 6/22] RUN curl -o intuitive-custom-post-order.zip -fSL \"http  0.0s\n",
      "\u001b[0m\u001b[34m => CACHED [ 7/22] RUN curl -o wordpress-seo.zip -fSL \"https://downloads.  0.0s\n",
      "\u001b[0m\u001b[34m => CACHED [ 8/22] RUN curl -o wordpress-seo_de_DE.zip -fSL \"https://down  0.0s\n",
      "\u001b[0m\u001b[34m => CACHED [ 9/22] RUN curl -o acf-image-crop-add-on.zip -fSL \"https://do  0.0s\n",
      "\u001b[0m\u001b[34m => CACHED [10/22] RUN curl -o wonderm00ns-simple-facebook-open-graph-tag  0.0s\n",
      "\u001b[0m\u001b[34m => CACHED [11/22] RUN curl -o classic-editor.zip -fSL \"https://downloads  0.0s\n",
      "\u001b[0m\u001b[34m => CACHED [12/22] RUN curl -o force-refresh.zip -fSL \"https://downloads.  0.0s\n",
      "\u001b[0m\u001b[34m => CACHED [13/22] RUN curl -o acf-rgba-color-picker.zip -fSL \"https://do  0.0s\n",
      "\u001b[0m\u001b[34m => CACHED [14/22] RUN curl -o ajax-load-more.zip -fSL \"https://downloads  0.0s\n",
      "\u001b[0m\u001b[34m => CACHED [15/22] RUN curl -o acf-autosize.zip -fSL \"https://downloads.w  0.0s\n",
      "\u001b[0m\u001b[34m => CACHED [16/22] RUN rm -rf wp-content/themes/                           0.0s\n",
      "\u001b[0m\u001b[34m => [17/22] COPY wp-content/themes/ /var/www/html/wp-content/themes/       0.9s\n",
      "\u001b[0m => [18/22] COPY wp-content/plugins/advanced-custom-fields-pro/ /var/www/  0.1s\n",
      "\u001b[?25h\u001b[1A\u001b[1A\u001b[1A\u001b[1A\u001b[1A\u001b[1A\u001b[1A\u001b[1A\u001b[1A\u001b[1A\u001b[1A\u001b[1A\u001b[1A\u001b[1A\u001b[1A\u001b[1A\u001b[1A\u001b[1A\u001b[1A\u001b[1A\u001b[1A\u001b[1A\u001b[1A\u001b[0G\u001b[?25l[+] Building 1.5s (21/26)                                                       \n",
      "\u001b[34m => => transferring context: 2B                                            0.0s\n",
      "\u001b[0m\u001b[34m => [internal] load metadata for reg.xailabs.com/xailabs/wordpress:latest  0.0s\n",
      "\u001b[0m\u001b[34m => [ 1/22] FROM reg.xailabs.com/xailabs/wordpress:latest                  0.0s\n",
      "\u001b[0m\u001b[34m => [internal] load build context                                          0.1s\n",
      "\u001b[0m\u001b[34m => => transferring context: 317.45kB                                      0.1s\n",
      "\u001b[0m\u001b[34m => CACHED [ 2/22] RUN apt-get update && apt-get upgrade -y && apt-get cl  0.0s\n",
      "\u001b[0m\u001b[34m => CACHED [ 3/22] RUN curl -o duplicate-post.zip -fSL \"https://downloads  0.0s\n",
      "\u001b[0m\u001b[34m => CACHED [ 4/22] RUN curl -o duplicate-post_de_DE.zip -fSL \"https://dow  0.0s\n",
      "\u001b[0m\u001b[34m => CACHED [ 5/22] RUN curl -o w3-total-cache.zip -fSL \"https://downloads  0.0s\n",
      "\u001b[0m\u001b[34m => CACHED [ 6/22] RUN curl -o intuitive-custom-post-order.zip -fSL \"http  0.0s\n",
      "\u001b[0m\u001b[34m => CACHED [ 7/22] RUN curl -o wordpress-seo.zip -fSL \"https://downloads.  0.0s\n",
      "\u001b[0m\u001b[34m => CACHED [ 8/22] RUN curl -o wordpress-seo_de_DE.zip -fSL \"https://down  0.0s\n",
      "\u001b[0m\u001b[34m => CACHED [ 9/22] RUN curl -o acf-image-crop-add-on.zip -fSL \"https://do  0.0s\n",
      "\u001b[0m\u001b[34m => CACHED [10/22] RUN curl -o wonderm00ns-simple-facebook-open-graph-tag  0.0s\n",
      "\u001b[0m\u001b[34m => CACHED [11/22] RUN curl -o classic-editor.zip -fSL \"https://downloads  0.0s\n",
      "\u001b[0m\u001b[34m => CACHED [12/22] RUN curl -o force-refresh.zip -fSL \"https://downloads.  0.0s\n",
      "\u001b[0m\u001b[34m => CACHED [13/22] RUN curl -o acf-rgba-color-picker.zip -fSL \"https://do  0.0s\n",
      "\u001b[0m\u001b[34m => CACHED [14/22] RUN curl -o ajax-load-more.zip -fSL \"https://downloads  0.0s\n",
      "\u001b[0m\u001b[34m => CACHED [15/22] RUN curl -o acf-autosize.zip -fSL \"https://downloads.w  0.0s\n",
      "\u001b[0m\u001b[34m => CACHED [16/22] RUN rm -rf wp-content/themes/                           0.0s\n",
      "\u001b[0m\u001b[34m => [17/22] COPY wp-content/themes/ /var/www/html/wp-content/themes/       0.9s\n",
      "\u001b[0m => [18/22] COPY wp-content/plugins/advanced-custom-fields-pro/ /var/www/  0.3s\n",
      "\u001b[?25h\u001b[1A\u001b[1A\u001b[1A\u001b[1A\u001b[1A\u001b[1A\u001b[1A\u001b[1A\u001b[1A\u001b[1A\u001b[1A\u001b[1A\u001b[1A\u001b[1A\u001b[1A\u001b[1A\u001b[1A\u001b[1A\u001b[1A\u001b[1A\u001b[1A\u001b[1A\u001b[1A\u001b[0G\u001b[?25l[+] Building 1.7s (21/26)                                                       \n",
      "\u001b[34m => => transferring context: 2B                                            0.0s\n",
      "\u001b[0m\u001b[34m => [internal] load metadata for reg.xailabs.com/xailabs/wordpress:latest  0.0s\n",
      "\u001b[0m\u001b[34m => [ 1/22] FROM reg.xailabs.com/xailabs/wordpress:latest                  0.0s\n",
      "\u001b[0m\u001b[34m => [internal] load build context                                          0.1s\n",
      "\u001b[0m\u001b[34m => => transferring context: 317.45kB                                      0.1s\n",
      "\u001b[0m\u001b[34m => CACHED [ 2/22] RUN apt-get update && apt-get upgrade -y && apt-get cl  0.0s\n",
      "\u001b[0m\u001b[34m => CACHED [ 3/22] RUN curl -o duplicate-post.zip -fSL \"https://downloads  0.0s\n",
      "\u001b[0m\u001b[34m => CACHED [ 4/22] RUN curl -o duplicate-post_de_DE.zip -fSL \"https://dow  0.0s\n",
      "\u001b[0m\u001b[34m => CACHED [ 5/22] RUN curl -o w3-total-cache.zip -fSL \"https://downloads  0.0s\n",
      "\u001b[0m\u001b[34m => CACHED [ 6/22] RUN curl -o intuitive-custom-post-order.zip -fSL \"http  0.0s\n",
      "\u001b[0m\u001b[34m => CACHED [ 7/22] RUN curl -o wordpress-seo.zip -fSL \"https://downloads.  0.0s\n",
      "\u001b[0m\u001b[34m => CACHED [ 8/22] RUN curl -o wordpress-seo_de_DE.zip -fSL \"https://down  0.0s\n",
      "\u001b[0m\u001b[34m => CACHED [ 9/22] RUN curl -o acf-image-crop-add-on.zip -fSL \"https://do  0.0s\n",
      "\u001b[0m\u001b[34m => CACHED [10/22] RUN curl -o wonderm00ns-simple-facebook-open-graph-tag  0.0s\n",
      "\u001b[0m\u001b[34m => CACHED [11/22] RUN curl -o classic-editor.zip -fSL \"https://downloads  0.0s\n",
      "\u001b[0m\u001b[34m => CACHED [12/22] RUN curl -o force-refresh.zip -fSL \"https://downloads.  0.0s\n",
      "\u001b[0m\u001b[34m => CACHED [13/22] RUN curl -o acf-rgba-color-picker.zip -fSL \"https://do  0.0s\n",
      "\u001b[0m\u001b[34m => CACHED [14/22] RUN curl -o ajax-load-more.zip -fSL \"https://downloads  0.0s\n",
      "\u001b[0m\u001b[34m => CACHED [15/22] RUN curl -o acf-autosize.zip -fSL \"https://downloads.w  0.0s\n",
      "\u001b[0m\u001b[34m => CACHED [16/22] RUN rm -rf wp-content/themes/                           0.0s\n",
      "\u001b[0m\u001b[34m => [17/22] COPY wp-content/themes/ /var/www/html/wp-content/themes/       0.9s\n",
      "\u001b[0m => [18/22] COPY wp-content/plugins/advanced-custom-fields-pro/ /var/www/  0.4s\n",
      "\u001b[?25h\u001b[1A\u001b[1A\u001b[1A\u001b[1A\u001b[1A\u001b[1A\u001b[1A\u001b[1A\u001b[1A\u001b[1A\u001b[1A\u001b[1A\u001b[1A\u001b[1A\u001b[1A\u001b[1A\u001b[1A\u001b[1A\u001b[1A\u001b[1A\u001b[1A\u001b[1A\u001b[1A\u001b[0G\u001b[?25l[+] Building 1.7s (23/26)                                                       \n",
      "\u001b[34m => [internal] load build definition from Dockerfile                       0.1s\n",
      "\u001b[0m\u001b[34m => => transferring dockerfile: 37B                                        0.0s\n",
      "\u001b[0m\u001b[34m => [internal] load .dockerignore                                          0.0s\n",
      "\u001b[0m\u001b[34m => => transferring context: 2B                                            0.0s\n",
      "\u001b[0m\u001b[34m => [internal] load metadata for reg.xailabs.com/xailabs/wordpress:latest  0.0s\n",
      "\u001b[0m\u001b[34m => [ 1/22] FROM reg.xailabs.com/xailabs/wordpress:latest                  0.0s\n",
      "\u001b[0m\u001b[34m => [internal] load build context                                          0.1s\n",
      "\u001b[0m\u001b[34m => => transferring context: 317.45kB                                      0.1s\n",
      "\u001b[0m\u001b[34m => CACHED [ 2/22] RUN apt-get update && apt-get upgrade -y && apt-get cl  0.0s\n",
      "\u001b[0m\u001b[34m => CACHED [ 3/22] RUN curl -o duplicate-post.zip -fSL \"https://downloads  0.0s\n",
      "\u001b[0m\u001b[34m => CACHED [ 4/22] RUN curl -o duplicate-post_de_DE.zip -fSL \"https://dow  0.0s\n",
      "\u001b[0m\u001b[34m => CACHED [ 5/22] RUN curl -o w3-total-cache.zip -fSL \"https://downloads  0.0s\n",
      "\u001b[0m\u001b[34m => CACHED [ 6/22] RUN curl -o intuitive-custom-post-order.zip -fSL \"http  0.0s\n",
      "\u001b[0m\u001b[34m => CACHED [ 7/22] RUN curl -o wordpress-seo.zip -fSL \"https://downloads.  0.0s\n",
      "\u001b[0m\u001b[34m => CACHED [ 8/22] RUN curl -o wordpress-seo_de_DE.zip -fSL \"https://down  0.0s\n",
      "\u001b[0m\u001b[34m => CACHED [ 9/22] RUN curl -o acf-image-crop-add-on.zip -fSL \"https://do  0.0s\n",
      "\u001b[0m\u001b[34m => CACHED [10/22] RUN curl -o wonderm00ns-simple-facebook-open-graph-tag  0.0s\n",
      "\u001b[0m\u001b[34m => CACHED [11/22] RUN curl -o classic-editor.zip -fSL \"https://downloads  0.0s\n",
      "\u001b[0m\u001b[34m => CACHED [12/22] RUN curl -o force-refresh.zip -fSL \"https://downloads.  0.0s\n",
      "\u001b[0m\u001b[34m => CACHED [13/22] RUN curl -o acf-rgba-color-picker.zip -fSL \"https://do  0.0s\n",
      "\u001b[0m\u001b[34m => CACHED [14/22] RUN curl -o ajax-load-more.zip -fSL \"https://downloads  0.0s\n",
      "\u001b[0m\u001b[34m => CACHED [15/22] RUN curl -o acf-autosize.zip -fSL \"https://downloads.w  0.0s\n",
      "\u001b[0m\u001b[34m => CACHED [16/22] RUN rm -rf wp-content/themes/                           0.0s\n",
      "\u001b[0m\u001b[34m => [17/22] COPY wp-content/themes/ /var/www/html/wp-content/themes/       0.9s\n",
      "\u001b[0m\u001b[34m => [18/22] COPY wp-content/plugins/advanced-custom-fields-pro/ /var/www/  0.5s\n",
      "\u001b[0m\u001b[31m => ERROR [19/22] COPY docker/wordpress/favicon.ico /var/www/html/favicon  0.0s\n",
      "\u001b[0m\u001b[?25h------\n",
      " > [19/22] COPY docker/wordpress/favicon.ico /var/www/html/favicon.ico:\n",
      "------\n",
      "failed to prepare nxxtnf923hts0y15cj7mpd72z: max depth exceeded\n",
      "\u001b[31mERROR\u001b[0m: Service 'template-wordpress' failed to build : Build failed\n"
     ]
    }
   ],
   "metadata": {
    "tags": [
     "outputPrepend"
    ]
   }
  },
  {
   "cell_type": "code",
   "execution_count": 5,
   "source": [
    "!docker-compose up -d"
   ],
   "outputs": [
    {
     "output_type": "stream",
     "name": "stdout",
     "text": [
      "\n",
      "docker_template-mysql_1 is up-to-date\n",
      "docker_template-postfix_1 is up-to-date\n",
      "\u001b[1B"
     ]
    }
   ],
   "metadata": {}
  },
  {
   "cell_type": "code",
   "execution_count": 14,
   "source": [
    "!docker ps"
   ],
   "outputs": [
    {
     "output_type": "stream",
     "name": "stdout",
     "text": [
      "CONTAINER ID   IMAGE                                              COMMAND                  CREATED          STATUS          PORTS                                                  NAMES\r\n",
      "b69b4ae97372   reg.xailabs.com/xailabs/wordpress:latest           \"docker-entrypoint.s…\"   17 minutes ago   Up 17 minutes   0.0.0.0:1234->80/tcp, :::1234->80/tcp                  docker_template-wordpress_1\r\n",
      "59159e777258   reg.xailabs.com/xailabs/postfix:latest             \"/bin/sh -c /docker_…\"   17 minutes ago   Up 17 minutes                                                          docker_template-postfix_1\r\n",
      "110e06d2138e   reg.xailabs.com/xailabs/mysql:5.7                  \"docker-entrypoint.s…\"   17 minutes ago   Up 17 minutes   33060/tcp, 0.0.0.0:1235->3306/tcp, :::1235->3306/tcp   docker_template-mysql_1\r\n",
      "694564d336c1   reg.xailabs.com/pictofolio/pictofolio-php:latest   \"docker-php-entrypoi…\"   5 weeks ago      Up 3 days       9000/tcp                                               docker_pictofolio-php_1\r\n",
      "fc3923f59534   reg.xailabs.com/xailabs/mysql:8.0.18               \"docker-entrypoint.s…\"   5 weeks ago      Up 3 days       33060/tcp, 0.0.0.0:7778->3306/tcp, :::7778->3306/tcp   docker_pictofolio-mariadb_1\r\n"
     ]
    }
   ],
   "metadata": {}
  },
  {
   "cell_type": "markdown",
   "source": [
    "# Setting up the deployment server"
   ],
   "metadata": {}
  },
  {
   "cell_type": "code",
   "execution_count": 3,
   "source": [
    "%cd kubernetes"
   ],
   "outputs": [
    {
     "output_type": "stream",
     "name": "stdout",
     "text": [
      "/Users/francesco.fano/Documents/wordpress websites/xaiweb-2021/docker/kubernetes\n"
     ]
    }
   ],
   "metadata": {}
  },
  {
   "cell_type": "code",
   "execution_count": 6,
   "source": [
    "!docker tag reg.xailabs.com/xailabs/wordpress:latest reg.xailabs.com/xaiweb-2021/wordpress:latest"
   ],
   "outputs": [],
   "metadata": {}
  },
  {
   "cell_type": "code",
   "execution_count": 7,
   "source": [
    "!docker push reg.xailabs.com/xaiweb-2021/wordpress:latest"
   ],
   "outputs": [
    {
     "output_type": "stream",
     "name": "stdout",
     "text": [
      "The push refers to repository [reg.xailabs.com/xailabs-2021/wordpress]\n",
      "\n",
      "\u001b[1B\n",
      "\u001b[1B\n",
      "\u001b[1B\n",
      "\u001b[1B\n",
      "\u001b[1B\n",
      "\u001b[1B\n",
      "\u001b[1B\n",
      "\u001b[1B\n",
      "\u001b[1B\n",
      "\u001b[1B\n",
      "\u001b[1B\n",
      "\u001b[1B\n",
      "\u001b[1B\n",
      "\u001b[1B\n",
      "\u001b[1B\n",
      "\u001b[1B\n",
      "\u001b[1B\n",
      "\u001b[1B\n",
      "\u001b[1B\n",
      "\u001b[1B\n",
      "\u001b[1B\n",
      "\u001b[1B\n",
      "\u001b[1B\n",
      "\u001b[1B\n",
      "\u001b[1B\n",
      "\u001b[1B\n",
      "\u001b[1B\n",
      "\u001b[1B\n",
      "\u001b[1B\n",
      "\u001b[1B\n",
      "\u001b[1B\n",
      "\u001b[1B\n",
      "\u001b[1B\n",
      "\u001b[1B\n",
      "\u001b[1B\n",
      "\u001b[1B\n",
      "\u001b[1B\n",
      "\u001b[1B\n",
      "\u001b[1B\n",
      "\u001b[1B\n",
      "\u001b[1B\n",
      "\u001b[1B\n",
      "\u001b[1B\n",
      "\u001b[1B\n",
      "\u001b[1B\n",
      "\u001b[1B\n",
      "\u001b[1B\n",
      "\u001b[1B\n",
      "\u001b[1B\n",
      "\u001b[1B\n",
      "\u001b[1B\n",
      "\u001b[1B\n",
      "\u001b[1B\n",
      "\u001b[1B\n",
      "\u001b[1B\n",
      "\u001b[1B\n",
      "\u001b[1B\n",
      "\u001b[1B\n",
      "\u001b[1B\n",
      "\u001b[1B\n",
      "\u001b[1B\n",
      "\u001b[1B\n",
      "\u001b[1B\n",
      "\u001b[1B\n",
      "\u001b[1B\n",
      "\u001b[1B\n",
      "\u001b[1B\n",
      "\u001b[1B\n",
      "\u001b[1B\n",
      "\u001b[1B\n",
      "\u001b[1B\n",
      "\u001b[1B\n",
      "\u001b[1B\n",
      "\u001b[1B\n",
      "\u001b[1B\n",
      "\u001b[1B\n",
      "\u001b[1B\n",
      "\u001b[1B\n",
      "\u001b[1B\n",
      "\u001b[1B\n",
      "\u001b[1B\n",
      "\u001b[1B\n",
      "\u001b[1B\n",
      "\u001b[1B\n",
      "\u001b[1B\n",
      "\u001b[1B\n",
      "\u001b[1B\n",
      "\u001b[1B\n",
      "\u001b[1B\n",
      "\u001b[1B\n",
      "\u001b[1B\n",
      "\u001b[1B\n",
      "\u001b[1B\n",
      "\u001b[1B\n",
      "\u001b[1B\n",
      "\u001b[1B\n",
      "\u001b[1B\n",
      "\u001b[1B\n",
      "\u001b[1B\n",
      "\u001b[1B\n",
      "\u001b[1B\n",
      "\u001b[1B\n",
      "\u001b[90B\n",
      "\u001b[2B\n",
      "\u001b[105Blatest: digest: sha256:a570d74db965afaa481a831fb01c17fb824e4c6e43dfee49563d662b8981a4c8 size: 22297\n"
     ]
    }
   ],
   "metadata": {}
  },
  {
   "cell_type": "code",
   "execution_count": 20,
   "source": [
    "!kubectl apply -f namespace.yml "
   ],
   "outputs": [
    {
     "output_type": "stream",
     "name": "stdout",
     "text": [
      "The connection to the server localhost:8080 was refused - did you specify the right host or port?\n"
     ]
    }
   ],
   "metadata": {}
  },
  {
   "cell_type": "code",
   "execution_count": 21,
   "source": [
    "!kubectl config set-context xailabs-dev --namespace xaiweb-2021"
   ],
   "outputs": [
    {
     "output_type": "stream",
     "name": "stdout",
     "text": [
      "Context \"xailabs-dev\" modified.\n"
     ]
    }
   ],
   "metadata": {}
  },
  {
   "cell_type": "code",
   "execution_count": 22,
   "source": [
    "!kubectl config use-context xailabs-dev"
   ],
   "outputs": [
    {
     "output_type": "stream",
     "name": "stdout",
     "text": [
      "Switched to context \"xailabs-dev\".\n"
     ]
    }
   ],
   "metadata": {}
  },
  {
   "cell_type": "code",
   "execution_count": 23,
   "source": [
    "!kubectl apply -f glusterfs.yml "
   ],
   "outputs": [
    {
     "output_type": "stream",
     "name": "stdout",
     "text": [
      "The connection to the server localhost:8080 was refused - did you specify the right host or port?\n"
     ]
    }
   ],
   "metadata": {}
  },
  {
   "cell_type": "code",
   "execution_count": 24,
   "source": [
    "!kubectl get secret"
   ],
   "outputs": [
    {
     "output_type": "stream",
     "name": "stdout",
     "text": [
      "The connection to the server localhost:8080 was refused - did you specify the right host or port?\n"
     ]
    }
   ],
   "metadata": {}
  },
  {
   "cell_type": "code",
   "execution_count": 62,
   "source": [
    "!kubectl create secret generic template-wp-config  --from-file=../wordpress/wp-config-stage.php\n"
   ],
   "outputs": [
    {
     "output_type": "stream",
     "name": "stdout",
     "text": [
      "secret/template-wp-config created\r\n"
     ]
    }
   ],
   "metadata": {}
  },
  {
   "cell_type": "code",
   "execution_count": 63,
   "source": [
    "!kubectl apply -f xairegcred.yml \n"
   ],
   "outputs": [
    {
     "output_type": "stream",
     "name": "stdout",
     "text": [
      "secret/xairegcred created\r\n"
     ]
    }
   ],
   "metadata": {}
  },
  {
   "cell_type": "code",
   "execution_count": 66,
   "source": [
    "!kubectl apply -f deployment.yml "
   ],
   "outputs": [
    {
     "output_type": "stream",
     "name": "stdout",
     "text": [
      "deployment.apps/template-wordpress configured\n",
      "deployment.apps/template-mysql configured\n",
      "deployment.apps/template-postfix configured\n"
     ]
    }
   ],
   "metadata": {}
  },
  {
   "cell_type": "code",
   "execution_count": 59,
   "source": [
    "!kubectl apply -f service.yml "
   ],
   "outputs": [
    {
     "output_type": "stream",
     "name": "stdout",
     "text": [
      "service/template-wordpress created\n",
      "service/template-mysql created\n",
      "service/template-postfix created\n"
     ]
    }
   ],
   "metadata": {}
  },
  {
   "cell_type": "code",
   "execution_count": 60,
   "source": [
    "!kubectl apply -f ingress.yml "
   ],
   "outputs": [
    {
     "output_type": "stream",
     "name": "stdout",
     "text": [
      "ingress.extensions/template-wordpress created\r\n"
     ]
    }
   ],
   "metadata": {}
  },
  {
   "cell_type": "code",
   "execution_count": 26,
   "source": [
    "!kubectl get all"
   ],
   "outputs": [
    {
     "output_type": "stream",
     "name": "stdout",
     "text": [
      "The connection to the server localhost:8080 was refused - did you specify the right host or port?\n"
     ]
    }
   ],
   "metadata": {}
  },
  {
   "cell_type": "markdown",
   "source": [
    "# Problems?\n",
    "#### If no user jenkins in harbour, or also when a new wordpress version is present"
   ],
   "metadata": {}
  },
  {
   "cell_type": "code",
   "execution_count": 48,
   "source": [
    "!kubectl rollout restart deployment/template-wordpress"
   ],
   "outputs": [
    {
     "output_type": "stream",
     "name": "stdout",
     "text": [
      "deployment.apps/template-wordpress restarted\r\n"
     ]
    }
   ],
   "metadata": {}
  },
  {
   "cell_type": "markdown",
   "source": [
    "#### To reset the container"
   ],
   "metadata": {}
  },
  {
   "cell_type": "code",
   "execution_count": null,
   "source": [
    "!docker-compose down"
   ],
   "outputs": [],
   "metadata": {}
  },
  {
   "cell_type": "markdown",
   "source": [
    "#### If you change dockerfile or if new wordpress is available"
   ],
   "metadata": {}
  },
  {
   "cell_type": "code",
   "execution_count": null,
   "source": [
    "!docker-compose pull\n",
    "!docker-compose build"
   ],
   "outputs": [],
   "metadata": {}
  },
  {
   "cell_type": "markdown",
   "source": [
    "#### Copy config in root .kube, download file (let's fix it later)"
   ],
   "metadata": {}
  }
 ],
 "metadata": {
  "kernelspec": {
   "name": "python3",
   "display_name": "Python 3.8.2 64-bit"
  },
  "language_info": {
   "codemirror_mode": {
    "name": "ipython",
    "version": 3
   },
   "file_extension": ".py",
   "mimetype": "text/x-python",
   "name": "python",
   "nbconvert_exporter": "python",
   "pygments_lexer": "ipython3",
   "version": "3.8.2"
  },
  "interpreter": {
   "hash": "31f2aee4e71d21fbe5cf8b01ff0e069b9275f58929596ceb00d14d90e3e16cd6"
  }
 },
 "nbformat": 4,
 "nbformat_minor": 5
}